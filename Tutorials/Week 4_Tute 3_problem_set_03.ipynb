{
  "nbformat": 4,
  "nbformat_minor": 0,
  "metadata": {
    "colab": {
      "name": "problem_set_03.ipynb",
      "provenance": [],
      "collapsed_sections": [
        "dg5pdTSv10rD",
        "HO2o2i1ytNN9",
        "HJLiN8UdxEF-",
        "U8f4i2S328SJ",
        "qAVg7eLm1K8M"
      ],
      "toc_visible": true
    },
    "kernelspec": {
      "name": "python3",
      "display_name": "Python 3"
    },
    "language_info": {
      "name": "python"
    }
  },
  "cells": [
    {
      "cell_type": "markdown",
      "metadata": {
        "id": "wtYhEJOLntKg"
      },
      "source": [
        "# COMP90054 AI Planning for Autonomy\n",
        "### Problem Set 03\n",
        " - Choosing Heuristics - solution\n",
        "\n",
        "\n"
      ]
    },
    {
      "cell_type": "markdown",
      "metadata": {
        "id": "gzM1qCxE1yDN"
      },
      "source": [
        "### Key concepts:\n",
        "- Heuristic Functions and their properties and relations\n",
        "- Heuristic search algorithms\n",
        "- State-space model and size of the problem"
      ]
    },
    {
      "cell_type": "markdown",
      "metadata": {
        "id": "dg5pdTSv10rD"
      },
      "source": [
        "\n",
        "### Set up the environment:\n",
        "- Please run the following blocks of code to initialise the *environment*"
      ]
    },
    {
      "cell_type": "code",
      "metadata": {
        "colab": {
          "base_uri": "https://localhost:8080/"
        },
        "id": "oaRPfefQPliF",
        "outputId": "4c97a5cc-63f6-4723-80c0-4177d2b21ce6"
      },
      "source": [
        "!pip install pydotplus"
      ],
      "execution_count": null,
      "outputs": [
        {
          "output_type": "stream",
          "text": [
            "Requirement already satisfied: pydotplus in /usr/local/lib/python3.7/dist-packages (2.0.2)\n",
            "Requirement already satisfied: pyparsing>=2.0.1 in /usr/local/lib/python3.7/dist-packages (from pydotplus) (2.4.7)\n"
          ],
          "name": "stdout"
        }
      ]
    },
    {
      "cell_type": "code",
      "metadata": {
        "id": "mAX5ynV3OF2X"
      },
      "source": [
        "import numpy as np\n",
        "import pydotplus\n",
        "from IPython.display import display, Image\n",
        "from ipywidgets import interact\n",
        "import heapq\n",
        "import matplotlib.pyplot as plt\n",
        "import functools \n",
        "import copy"
      ],
      "execution_count": null,
      "outputs": []
    },
    {
      "cell_type": "code",
      "metadata": {
        "id": "BNTVpXp5Pe0v"
      },
      "source": [
        "# Class of the problem\n",
        "class Problem():\n",
        "  initial_state = None\n",
        "  state_space = None\n",
        "  goal_states = None\n",
        "  actions = None\n",
        "  transition_function = None\n",
        "  costs = None\n",
        "\n",
        "  def __init__(self, initial_state, state_space, goal_states, actions, transition_function, costs):\n",
        "    self.initial_state = initial_state\n",
        "    self.state_space = state_space\n",
        "    self.goal_states = goal_states\n",
        "    self.actions = actions\n",
        "    self.transition_function = transition_function\n",
        "    self.costs = costs\n",
        "    self.current_state = self.initial_state\n",
        "    return \n",
        "\n",
        "  def printStateSpace(self):\n",
        "    print ('initial_state={}'.format(self.initial_state))\n",
        "    print ('state_space={}'.format(self.state_space))\n",
        "    print ('goal_states={}'.format(self.goal_states))\n",
        "    print ('actions={}'.format(self.actions))\n",
        "    print ('transition_function={}'.format(self.transition_function))\n",
        "    print ('costs={}'.format(self.costs))\n",
        "\n",
        "class GridProblem(Problem):\n",
        "\n",
        "  def __init__(self,grid):\n",
        "\n",
        "    # generate states:\n",
        "    states = []\n",
        "    for g in powerset(grid.g_pos):\n",
        "      for i in range(grid.width):\n",
        "        for j in range(grid.height):\n",
        "          if not (i,j) in g:\n",
        "            states.append(((i,j),frozenset(g)))\n",
        "\n",
        "    self.state_space = set(states)\n",
        "\n",
        "    # generate initial state\n",
        "    self.initial_state = (grid.start_pos, frozenset(grid.g_pos.difference({grid.start_pos})))\n",
        "\n",
        "    # generate goal state\n",
        "    self.goal_states = set([((i,j),frozenset()) for i in range(grid.width) for j in range(grid.height)])\n",
        "\n",
        "    # generate actions\n",
        "    self.actions = {s: set(grid.generateActions(s)) for s in self.state_space}\n",
        "    for s in self.state_space:\n",
        "      if grid.isGoal(s):\n",
        "        self.actions.update({s:{}})\n",
        "\n",
        "    self.transition_function = {}\n",
        "    for s in self.state_space:\n",
        "      for a in self.actions[s]:\n",
        "        self.transition_function.update({(s,a):grid.generatedSuccessor(s,a)})\n",
        "\n",
        "    self.costs = { k:1 for k in self.transition_function.keys()}\n",
        "    return None\n",
        "\n",
        "\n",
        "# class of the grid\n",
        "class Grid():\n",
        "  width = None\n",
        "  height = None\n",
        "  walls = None\n",
        "  start_pos = None\n",
        "  g_pos = None\n",
        "\n",
        "  def __init__(self, width,height,walls,start_pos,g_pos):\n",
        "    self.width = width\n",
        "    self.height = height\n",
        "    self.walls = walls\n",
        "    self.start_pos = start_pos\n",
        "    self.g_pos = g_pos\n",
        "\n",
        "  def generateActions(self,state):\n",
        "    pos,_ = state\n",
        "    x,y = pos\n",
        "    actions = []\n",
        "    for dx,dy in [(0,1),(0,-1),(1,0),(-1,0)]:\n",
        "      x1 = x+dx\n",
        "      y1 = y+dy\n",
        "      if (not (x1,y1) in self.walls) and (x1>=0) and (x1<self.width) and (y1>=0) and (y1<self.height): \n",
        "          actions.append((dx,dy))\n",
        "\n",
        "    return actions\n",
        "\n",
        "  def generatedSuccessor(self,state,action):\n",
        "    pos,r_g_pos = state\n",
        "    r_g_pos1 = set(r_g_pos.copy())\n",
        "    x1 = pos[0]+action[0]\n",
        "    y1 = pos[1]+action[1]\n",
        "    if (x1,y1) in r_g_pos:\n",
        "      r_g_pos1.remove((x1,y1))\n",
        "    return ((x1,y1),frozenset(r_g_pos1))\n",
        "  \n",
        "  def isGoal(self,state):\n",
        "    return state[1] == {}\n",
        "\n",
        "  def printGrid(self):\n",
        "    output = [['_' for i in range(self.width)] for j in range(self.height)]\n",
        "    for x,y in self.walls:\n",
        "      output[self.height-1-y][x] = 'W'\n",
        "    output[self.height-1-self.start_pos[1]][self.start_pos[0]] = 's'\n",
        "    for x,y in self.g_pos:\n",
        "      output[self.height-1-y][x] = 'O'\n",
        "    # for line in output:\n",
        "    #   print(line)\n",
        "    return output\n",
        "\n",
        "  def printState(self,state):\n",
        "    pos,g_pos = state\n",
        "    output = [['_' for i in range(self.width)] for j in range(self.height)]\n",
        "    for x,y in self.walls:\n",
        "      output[self.height-1-y][x] = 'W'\n",
        "    output[self.height-1-pos[1]][pos[0]] = 'a'\n",
        "    for x,y in self.g_pos:\n",
        "      output[self.height-1-y][x] = 'O'\n",
        "    for x,y in self.g_pos:\n",
        "      if not (x,y) in g_pos:\n",
        "        output[self.height-1-y][x] = 'X'\n",
        "    # for line in output:\n",
        "    #   print(line)\n",
        "    return output\n",
        "\n",
        "  def printStateAction(self,state,action):\n",
        "    pos,g_pos = state\n",
        "    astr = {(0,1):'au2',(0,-1):'ad2',(-1,0): 'al2',(1,0): 'ar2'}\n",
        "\n",
        "    output = [['_' for i in range(self.width)] for j in range(self.height)]\n",
        "    for x,y in self.walls:\n",
        "      output[self.height-1-y][x] = 'W'\n",
        "    output[self.height-1-pos[1]][pos[0]] = 'a'\n",
        "    for x,y in self.g_pos:\n",
        "      output[self.height-1-y][x] = 'O'\n",
        "    for x,y in self.g_pos:\n",
        "      if not (x,y) in g_pos:\n",
        "        output[self.height-1-y][x] = 'X'\n",
        "    output[self.height-1-pos[1]][pos[0]] = astr[(action[0],action[1])]\n",
        "\n",
        "    # for line in output:\n",
        "    #   print(line)\n",
        "    return output    \n",
        "\n",
        "def powerset(lst):\n",
        "    return functools.reduce(lambda result, x: result + [subset + [x] for subset in result],\n",
        "                  lst, [[]])\n",
        "\n",
        "def calculateHstar(problem,heuristic):\n",
        "  hstar = {}\n",
        "  h0 = {state:0 for state in problem.state_space}\n",
        "  for state in problem.state_space:\n",
        "    hstar.update({state :len(astar(problem,heuristic)[0])})\n",
        "  return hstar\n",
        "\n",
        "def astar(problem, heuristic):\n",
        "  expansion_order = []\n",
        "  start_node = (problem.initial_state, int(heuristic[problem.initial_state]), 0, None, [])\n",
        "  pq = PriorityQueue()\n",
        "  pq.push(start_node,int(heuristic[problem.initial_state]))\n",
        "\n",
        "  while not pq.isEmpty():\n",
        "    current_node = pq.pop()\n",
        "    expansion_order.append(current_node)\n",
        "    state, fn, accu_cost, parent_node_id, actions = current_node\n",
        "\n",
        "    # Goal Check\n",
        "    if state in problem.goal_states:\n",
        "      return (actions,expansion_order)\n",
        "\n",
        "    # Add successor nodes into queue (no loop check; randomly tie-break)\n",
        "    for action in problem.actions[state]:\n",
        "      succ_state = problem.transition_function[(state, action)]\n",
        "      cost = accu_cost + problem.costs[(state, action)]\n",
        "      pq.push((succ_state, int(heuristic[succ_state])+cost ,cost, len(expansion_order)-1,actions+[action]),int(heuristic[succ_state])+cost)\n",
        "\n",
        "  return (None,expansion_order)\n",
        "\n",
        "def vis_grid(grid_matrix,transition_list):\n",
        "  arrows = {(-1,0):np.array([0, -1]),\n",
        "      (0,1):np.array([-1, 0]),\n",
        "      (1,0):np.array([0, 1]),\n",
        "      (0,-1):np.array([1, 0])}\n",
        "  arraw_size = 0.6\n",
        "  len_lim = 4\n",
        "\n",
        "  height = len(grid_matrix)\n",
        "  width = len(grid_matrix[0])\n",
        "  plt.gcf().set_size_inches(width, height)\n",
        "  xticks = np.linspace(0,width,width+1)\n",
        "  yticks = np.linspace(0,height,height+1)\n",
        "  plt.xticks(xticks)\n",
        "  plt.yticks(yticks)\n",
        "  plt.xlim(0, width)\n",
        "  plt.ylim(0, height)\n",
        "\n",
        "  for i in range(height):\n",
        "    for j in range(width):\n",
        "      t = grid_matrix[i][j]\n",
        "      #print (t)\n",
        "      if type(t) is not str:\n",
        "        plt.text(j+0.5,height-1-i+0.5,str(t)[:4],fontsize=30,horizontalalignment='center',verticalalignment='center')\n",
        "      else:\n",
        "        if t == '_':\n",
        "          continue\n",
        "        plt.text(j+0.5,height-1-i+0.5,t,fontsize=40,horizontalalignment='center',verticalalignment='center')\n",
        "  for transition in transition_list:\n",
        "    pos,t = transition\n",
        "    i,j = pos\n",
        "    a = arrows[t] * arraw_size/2\n",
        "    plt.arrow(i+0.5+a[1]/2,j+0.5-a[0]/2,a[1]*2,-a[0]*2,head_width=0.15, head_length=0.1, fc='k', ec='k')\n",
        "  plt.grid(True)\n",
        "# vis_grid(grid.printGrid())\n",
        "\n",
        "class PriorityQueue:\n",
        "    \"\"\"\n",
        "      Implements a priority queue data structure. Each inserted item\n",
        "      has a priority associated with it and the client is usually interested\n",
        "      in quick retrieval of the lowest-priority item in the queue. This\n",
        "      data structure allows O(1) access to the lowest-priority item.\n",
        "    \"\"\"\n",
        "    def  __init__(self):\n",
        "        self.heap = []\n",
        "        self.count = 0\n",
        "\n",
        "    def push(self, item, priority):\n",
        "        entry = (priority, self.count, item)\n",
        "        heapq.heappush(self.heap, entry)\n",
        "        self.count += 1\n",
        "\n",
        "    def pop(self):\n",
        "        (_, _, item) = heapq.heappop(self.heap)\n",
        "        return item\n",
        "\n",
        "    def isEmpty(self):\n",
        "        return len(self.heap) == 0\n",
        "\n",
        "    def update(self, item, priority):\n",
        "        # If item already in priority queue with higher priority, update its priority and rebuild the heap.\n",
        "        # If item already in priority queue with equal or lower priority, do nothing.\n",
        "        # If item not in priority queue, do the same thing as self.push.\n",
        "        for index, (p, c, i) in enumerate(self.heap):\n",
        "            if i == item:\n",
        "                if p <= priority:\n",
        "                    break\n",
        "                del self.heap[index]\n",
        "                self.heap.append((priority, c, item))\n",
        "                heapq.heapify(self.heap)\n",
        "                break\n",
        "        else:\n",
        "            self.push(item, priority)\n",
        "\n",
        "# Helper function to visualize the problem (i.e. draw state transition graph) \n",
        "def generate_state_graph(problem,heuristics):\n",
        "  state_graph={}\n",
        "  state_graph['nodes'] = {k:{'label':'\\\"{}\\n{}\\\"'.format(k,heuristics[k])} for k in sorted(list(problem.state_space))}\n",
        "  state_graph['nodes'][problem.initial_state]['color'] = 'green'\n",
        "  for goal in problem.goal_states:\n",
        "      state_graph['nodes'][goal]['shape'] = 'doublecircle'\n",
        "  state_graph['edge'] = {(s,problem.transition_function[(s,a)]):{'label':f'\"{a}\"'} for (s,a) in problem.costs.keys()}\n",
        "  return state_graph\n",
        "\n",
        "def render_graph(param):\n",
        "  s = ''\n",
        "  s += 'digraph G { \\n'\n",
        "\n",
        "  for node,tdict in param['nodes'].items():\n",
        "    tstr = f'\"{node}\"' + ' '\n",
        "    if bool(tdict):\n",
        "      tstr += '['\n",
        "      for k,v in tdict.items():\n",
        "        tstr += '{}={},'.format(k,v)\n",
        "      tstr = tstr[:-1] + ']'\n",
        "    tstr += ';\\n'\n",
        "    s+=tstr\n",
        "  \n",
        "  for edge,tdict in param['edge'].items():\n",
        "    tstr = f'\"{edge[0]}\"->\"{edge[1]}\" '\n",
        "    # tstr = str(edge[0]) + '->' + str(edge[1]) + ' '\n",
        "    if bool(tdict):\n",
        "      tstr += '['\n",
        "      for k,v in tdict.items():\n",
        "        tstr += '{}={},'.format(k,v)\n",
        "      tstr = tstr[:-1] + ']'\n",
        "    tstr += ';\\n'\n",
        "    s+=tstr\n",
        "  s += ' \\n}'\n",
        "\n",
        "  # print (s)\n",
        "  graph = pydotplus.graph_from_dot_data(s)\n",
        "  return graph.create_png()\n",
        "\n",
        "\n",
        "# Visulize the search process (not required)\n",
        "def visulize_heuristic_search_process(nodes,problem):\n",
        "    progress = []\n",
        "\n",
        "    for i,(state,fn,value,parent) in enumerate(nodes):\n",
        "        param = {}\n",
        "        param['nodes'] = {str(k):{'label':'\\\"n{}\\n{},{},{},{}\\\"'.format(k,state,fn,cost,parent)} for k,(state,fn,cost,parent) in enumerate(nodes[:i+1])}\n",
        "        \n",
        "        # The newly generated node is red while all other nodes are green \n",
        "        for k in param['nodes']:\n",
        "            param['nodes'][k]['color'] = 'green'\n",
        "        param['nodes'][str(i)]['color'] = 'red'\n",
        "\n",
        "        # Black edges\n",
        "        param['edge'] = {(str(parent), str(k)): {'label': str(problem.costs[(nodes[parent][0], state)])} for k, (state,fn, cost, parent) in enumerate(nodes[:i+1]) if not parent is None}\n",
        "        for edge in param['edge']:\n",
        "            param['edge'][edge]['color'] = 'black'\n",
        "\n",
        "        progress.append(param)\n",
        "\n",
        "    prog_imgs = [render_graph(param) for param in progress]\n",
        "    def show_img(idx):\n",
        "        return display(Image(prog_imgs[idx]))\n",
        "    interact(show_img,idx=(0,len(prog_imgs)-1,1))\n",
        "\n",
        "\n",
        "    \n"
      ],
      "execution_count": null,
      "outputs": []
    },
    {
      "cell_type": "markdown",
      "metadata": {
        "id": "akI1X3YHwVm6"
      },
      "source": [
        "\n",
        "\n",
        "---\n",
        "\n"
      ]
    },
    {
      "cell_type": "markdown",
      "metadata": {
        "id": "HO2o2i1ytNN9"
      },
      "source": [
        "### Review and Recap\n",
        "\n",
        "Consider a $m \\times m$ manhattan grid,\n",
        "and a set of coordinates $G$ to visit in any order, and a set of inaccessible coordinates (walls) $W$. A state-space model can be represented as $P = \\langle S,s_0, S_G, A, T,c \\rangle$, where: "
      ]
    },
    {
      "cell_type": "markdown",
      "metadata": {
        "id": "ADg8_P-gtJ4G"
      },
      "source": [
        "*    $S = \\{ \\langle x , y, V' \\rangle \\mid x, y \\in \\{0,\\dots,m-1\\} \\, \\land \\, V' \\subseteq G \\}$\n",
        "\n",
        "*    $s_0 = \\langle (0,0),G\\rangle$, assuming $(0,0) \\notin G $\n",
        "\n",
        "*    $S_G = \\{ \\langle (x,y),G \\rangle \\mid x,y \\in \\{0,\\dots,m-1\\} \\}$ \n",
        "\n",
        "*    $A(\\langle x , y, V \\rangle) = \\{ \\left( dx , dy \\right) \\mid $\n",
        "  \n",
        "   *   $ dx, dy \\in \\{-1, 0, 1\\} $\n",
        "   *   $\\land \\ |dx| + |dy| = 1 $\n",
        "   *   $\\land \\ x + dx, y + dy \\in \\{0,\\dots,m-1\\}$\n",
        "   *   $(x+dx,y+dy) \\notin W \\ \\} $\n",
        "\n",
        "*    $T(\\left(dx, dy\\right), \\langle x , y, V \\rangle) = \\langle x+dx , y+dy, V' \\setminus \\{(x+dx, y+dy)\\} \\rangle $\n",
        "\n",
        "*    $c(a, s) = 1$\n"
      ]
    },
    {
      "cell_type": "markdown",
      "metadata": {
        "id": "HJLiN8UdxEF-"
      },
      "source": [
        "### Simple Grid Example:"
      ]
    },
    {
      "cell_type": "code",
      "metadata": {
        "id": "Z7q-lrk1qm2u"
      },
      "source": [
        "width0 = 2\n",
        "height0 = 2\n",
        "walls0 = {}\n",
        "start_pos0 = (0,0)\n",
        "g_pos0 = {(1,1)}\n",
        "\n",
        "grid0 = Grid(width0,height0,walls0,start_pos0,g_pos0)\n",
        "vis_grid(grid0.printGrid(),{})"
      ],
      "execution_count": null,
      "outputs": []
    },
    {
      "cell_type": "markdown",
      "metadata": {
        "id": "iJvMtZzdxcjz"
      },
      "source": [
        "Code to auto generate state space model for the Manhattan Grid Problem:"
      ]
    },
    {
      "cell_type": "code",
      "metadata": {
        "id": "yvxANSTgt0WH"
      },
      "source": [
        "problem0 = GridProblem(grid0)\n",
        "problem0.printStateSpace()\n",
        "heuristics_customised = {s:0 for s in problem0.state_space}"
      ],
      "execution_count": null,
      "outputs": []
    },
    {
      "cell_type": "markdown",
      "metadata": {
        "id": "WDpffT8Qt6u1"
      },
      "source": [
        "Code to visualize the state transition graph (please do not try this with large state-space)"
      ]
    },
    {
      "cell_type": "code",
      "metadata": {
        "id": "rhErI6yWuGmF"
      },
      "source": [
        "display(Image(render_graph(generate_state_graph(problem0,heuristics_customised))))"
      ],
      "execution_count": null,
      "outputs": []
    },
    {
      "cell_type": "markdown",
      "metadata": {
        "id": "U8f4i2S328SJ"
      },
      "source": [
        "\n",
        "\n",
        "---\n",
        "\n",
        "\n",
        "### Problem 1:\n"
      ]
    },
    {
      "cell_type": "markdown",
      "metadata": {
        "id": "HCLHR5J_0mue"
      },
      "source": [
        "Reformulate the state-space model from *Review and Recap* as a STRIPS problem $P= \\langle F,O,I,G \\rangle $, where:"
      ]
    },
    {
      "cell_type": "markdown",
      "metadata": {
        "id": "cV7v8Hth1Bfg"
      },
      "source": [
        "F={}\n",
        "\n",
        "O={}\n",
        "\n",
        "I={}\n",
        "\n",
        "G={}"
      ]
    },
    {
      "cell_type": "markdown",
      "metadata": {
        "id": "qAVg7eLm1K8M"
      },
      "source": [
        "### Problem 2:"
      ]
    },
    {
      "cell_type": "markdown",
      "metadata": {
        "id": "PLm4V9UO1Oot"
      },
      "source": [
        "Define the following heuristics for this problem, and discuss the admissibilty, consistency and domination relation for those heuristics (as well as the computational efficiency):"
      ]
    },
    {
      "cell_type": "code",
      "metadata": {
        "id": "mkbp6pdKnQvE"
      },
      "source": [
        "width = 7\n",
        "height = 5\n",
        "walls = {(1,0),(2,0)}\n",
        "start_pos = (3,0)\n",
        "g_pos = {(0,2),(6,2)}\n",
        "\n",
        "grid = Grid(width,height,walls,start_pos,g_pos)\n",
        "problem = GridProblem(grid)\n",
        "transition_list = [(problem.initial_state[0],a) for a in grid.generateActions(problem.initial_state)]\n",
        "vis_grid(grid.printGrid(),transition_list)\n",
        "\n",
        "hstar = {((4, 3), frozenset({(6, 2)})): 11, ((0, 2), frozenset({(0, 2)})): 11, ((2, 3), frozenset({(6, 2)})): 11, ((3, 0), frozenset()): 11, ((2, 1), frozenset({(0, 2)})): 11, ((0, 3), frozenset({(6, 2), (0, 2)})): 11, ((5, 2), frozenset({(0, 2)})): 11, ((6, 3), frozenset()): 11, ((5, 2), frozenset({(6, 2)})): 11, ((1, 0), frozenset({(6, 2)})): 11, ((0, 4), frozenset({(6, 2)})): 11, ((6, 4), frozenset({(6, 2)})): 11, ((3, 2), frozenset({(6, 2), (0, 2)})): 11, ((2, 4), frozenset({(6, 2), (0, 2)})): 11, ((4, 2), frozenset({(0, 2)})): 11, ((2, 3), frozenset({(0, 2)})): 11, ((4, 3), frozenset({(0, 2)})): 11, ((2, 0), frozenset({(6, 2)})): 11, ((1, 1), frozenset({(6, 2)})): 11, ((5, 4), frozenset({(0, 2)})): 11, ((1, 3), frozenset({(6, 2)})): 11, ((5, 3), frozenset({(0, 2)})): 11, ((2, 0), frozenset({(0, 2)})): 11, ((3, 0), frozenset({(6, 2), (0, 2)})): 11, ((1, 4), frozenset({(0, 2)})): 11, ((6, 4), frozenset({(0, 2)})): 11, ((4, 1), frozenset({(0, 2)})): 11, ((4, 4), frozenset({(6, 2)})): 11, ((2, 2), frozenset({(0, 2)})): 11, ((4, 1), frozenset()): 11, ((6, 3), frozenset({(6, 2), (0, 2)})): 11, ((3, 3), frozenset({(6, 2), (0, 2)})): 11, ((2, 0), frozenset()): 11, ((6, 2), frozenset({(6, 2)})): 11, ((1, 1), frozenset()): 11, ((0, 2), frozenset({(6, 2)})): 11, ((6, 0), frozenset({(6, 2), (0, 2)})): 11, ((0, 0), frozenset({(6, 2)})): 11, ((4, 0), frozenset({(0, 2)})): 11, ((6, 2), frozenset({(0, 2)})): 11, ((5, 1), frozenset({(6, 2)})): 11, ((1, 2), frozenset({(0, 2)})): 11, ((3, 4), frozenset({(0, 2)})): 11, ((3, 1), frozenset({(6, 2)})): 11, ((6, 3), frozenset({(0, 2)})): 11, ((2, 2), frozenset({(6, 2)})): 11, ((1, 4), frozenset({(6, 2), (0, 2)})): 11, ((3, 4), frozenset()): 11, ((4, 4), frozenset({(0, 2)})): 11, ((6, 1), frozenset({(0, 2)})): 11, ((1, 2), frozenset()): 11, ((5, 4), frozenset({(6, 2), (0, 2)})): 11, ((6, 2), frozenset()): 11, ((0, 2), frozenset()): 11, ((3, 0), frozenset({(0, 2)})): 11, ((4, 3), frozenset({(6, 2), (0, 2)})): 11, ((1, 3), frozenset({(0, 2)})): 11, ((5, 3), frozenset({(6, 2)})): 11, ((3, 2), frozenset({(0, 2)})): 11, ((1, 1), frozenset({(0, 2)})): 11, ((3, 4), frozenset({(6, 2), (0, 2)})): 11, ((4, 2), frozenset({(6, 2)})): 11, ((1, 2), frozenset({(6, 2), (0, 2)})): 11, ((6, 0), frozenset({(0, 2)})): 11, ((0, 3), frozenset({(0, 2)})): 11, ((0, 4), frozenset({(0, 2)})): 11, ((2, 1), frozenset({(6, 2), (0, 2)})): 11, ((0, 1), frozenset()): 11, ((3, 3), frozenset({(0, 2)})): 11, ((1, 1), frozenset({(6, 2), (0, 2)})): 11, ((4, 0), frozenset()): 11, ((5, 0), frozenset({(6, 2), (0, 2)})): 11, ((2, 4), frozenset({(6, 2)})): 11, ((3, 0), frozenset({(6, 2)})): 11, ((4, 1), frozenset({(6, 2), (0, 2)})): 11, ((2, 3), frozenset()): 11, ((2, 0), frozenset({(6, 2), (0, 2)})): 11, ((1, 3), frozenset({(6, 2), (0, 2)})): 11, ((6, 3), frozenset({(6, 2)})): 11, ((0, 4), frozenset()): 11, ((5, 2), frozenset()): 11, ((0, 3), frozenset()): 11, ((6, 4), frozenset()): 11, ((4, 4), frozenset({(6, 2), (0, 2)})): 11, ((2, 3), frozenset({(6, 2), (0, 2)})): 11, ((2, 4), frozenset()): 11, ((3, 2), frozenset()): 11, ((1, 3), frozenset()): 11, ((4, 0), frozenset({(6, 2), (0, 2)})): 11, ((5, 2), frozenset({(6, 2), (0, 2)})): 11, ((0, 4), frozenset({(6, 2), (0, 2)})): 11, ((6, 1), frozenset()): 11, ((1, 0), frozenset({(6, 2), (0, 2)})): 11, ((4, 4), frozenset()): 11, ((6, 4), frozenset({(6, 2), (0, 2)})): 11, ((4, 1), frozenset({(6, 2)})): 11, ((0, 3), frozenset({(6, 2)})): 11, ((2, 1), frozenset()): 11, ((3, 2), frozenset({(6, 2)})): 11, ((0, 0), frozenset()): 11, ((5, 3), frozenset({(6, 2), (0, 2)})): 11, ((2, 4), frozenset({(0, 2)})): 11, ((4, 2), frozenset({(6, 2), (0, 2)})): 11, ((5, 0), frozenset()): 11, ((5, 1), frozenset()): 11, ((6, 1), frozenset({(6, 2)})): 11, ((3, 3), frozenset({(6, 2)})): 11, ((0, 1), frozenset({(6, 2), (0, 2)})): 11, ((1, 0), frozenset({(0, 2)})): 11, ((3, 1), frozenset()): 11, ((2, 2), frozenset()): 11, ((3, 4), frozenset({(6, 2)})): 11, ((6, 2), frozenset({(6, 2), (0, 2)})): 11, ((1, 2), frozenset({(6, 2)})): 11, ((6, 0), frozenset({(6, 2)})): 11, ((2, 1), frozenset({(6, 2)})): 11, ((1, 4), frozenset()): 11, ((0, 2), frozenset({(6, 2), (0, 2)})): 11, ((5, 3), frozenset()): 11, ((5, 4), frozenset()): 11, ((5, 0), frozenset({(6, 2)})): 11, ((5, 1), frozenset({(6, 2), (0, 2)})): 11, ((4, 3), frozenset()): 11, ((2, 2), frozenset({(6, 2), (0, 2)})): 11, ((4, 2), frozenset()): 11, ((0, 0), frozenset({(6, 2), (0, 2)})): 11, ((0, 1), frozenset({(0, 2)})): 11, ((3, 3), frozenset()): 11, ((1, 0), frozenset()): 11, ((3, 1), frozenset({(0, 2)})): 11, ((6, 1), frozenset({(6, 2), (0, 2)})): 11, ((3, 1), frozenset({(6, 2), (0, 2)})): 11, ((6, 0), frozenset()): 11, ((0, 1), frozenset({(6, 2)})): 11, ((1, 4), frozenset({(6, 2)})): 11, ((5, 1), frozenset({(0, 2)})): 11, ((5, 0), frozenset({(0, 2)})): 11, ((5, 4), frozenset({(6, 2)})): 11, ((4, 0), frozenset({(6, 2)})): 11, ((0, 0), frozenset({(0, 2)})): 11}"
      ],
      "execution_count": null,
      "outputs": []
    },
    {
      "cell_type": "markdown",
      "metadata": {
        "id": "fwkYQTzRlh0C"
      },
      "source": [
        "#### Example heuristic"
      ]
    },
    {
      "cell_type": "code",
      "metadata": {
        "id": "kMtiRk7WlhWb"
      },
      "source": [
        "def zeroHeuristics(problem,grid):\n",
        "  width = grid.width\n",
        "  height = grid.height\n",
        "  walls = grid.walls\n",
        "\n",
        "\n",
        "  heuristic_dict = {}\n",
        "  for state in problem.state_space:\n",
        "    current_pos = state[0]\n",
        "    current_g_pos = state[1]\n",
        "    # Your code here\n",
        "    heuristic_dict.update({state: 0})\n",
        "\n",
        "  return heuristic_dict\n",
        "\n",
        "h0 = zeroHeuristics(problem,grid)"
      ],
      "execution_count": null,
      "outputs": []
    },
    {
      "cell_type": "markdown",
      "metadata": {
        "id": "xI07aQGd2RnN"
      },
      "source": [
        "#### Goal-Counting heuristic:"
      ]
    },
    {
      "cell_type": "code",
      "metadata": {
        "id": "BuMSauDc2seF"
      },
      "source": [
        "def gcHeuristics(problem,grid):\n",
        "  width = grid.width\n",
        "  height = grid.height\n",
        "  walls = grid.walls\n",
        "  \n",
        "  heuristic_dict = {}\n",
        "  for state in problem.state_space:\n",
        "    current_pos = state[0]\n",
        "    current_g_pos = state[1]\n",
        "    # Your code here:\n",
        "    \n",
        "    heuristic_dict.update({state: 0})\n",
        "\n",
        "  return heuristic_dict\n",
        "\n",
        "gc = gcHeuristics(problem,grid)"
      ],
      "execution_count": null,
      "outputs": []
    },
    {
      "cell_type": "markdown",
      "metadata": {
        "id": "pM7lkJXs2W40"
      },
      "source": [
        "#### Manhattan Distance to Closest Goal (positions) heuristic:"
      ]
    },
    {
      "cell_type": "code",
      "metadata": {
        "id": "oMK6Rvdx2WXV"
      },
      "source": [
        "def mdcHeuristics(problem,grid):\n",
        "  width = grid.width\n",
        "  height = grid.height\n",
        "  walls = grid.walls\n",
        "\n",
        "  heuristic_dict = {}\n",
        "  for state in problem.state_space:\n",
        "    current_pos = state[0]\n",
        "    current_g_pos = state[1]\n",
        "    # Your code here:\n",
        "    heuristic_dict.update({state: 0})\n",
        "\n",
        "  return heuristic_dict\n",
        "\n",
        "mdc = mdcHeuristics(problem,grid)"
      ],
      "execution_count": null,
      "outputs": []
    },
    {
      "cell_type": "markdown",
      "metadata": {
        "id": "m9_T_xV92z4l"
      },
      "source": [
        "#### Manhattan Distance to Furthest Goal (positions) heuristic:"
      ]
    },
    {
      "cell_type": "code",
      "metadata": {
        "id": "yVnwcjW82tlO"
      },
      "source": [
        "def mdfHeuristics(problem,grid):\n",
        "  width = grid.width\n",
        "  height = grid.height\n",
        "  walls = grid.walls\n",
        "\n",
        "  heuristic_dict = {}\n",
        "  for state in problem.state_space:\n",
        "    current_pos = state[0]\n",
        "    current_g_pos = state[1]\n",
        "    # Your code here:\n",
        "    heuristic_dict.update({state: min})\n",
        "\n",
        "  return heuristic_dict\n",
        "\n",
        "mdf = mdfHeuristics(problem,grid)\n",
        "# hstar = calculateHstar(problem,mdf)"
      ],
      "execution_count": null,
      "outputs": []
    },
    {
      "cell_type": "markdown",
      "metadata": {
        "id": "yy2EOHY32440"
      },
      "source": [
        "#### Any other heuristic you would like to try:"
      ]
    },
    {
      "cell_type": "code",
      "metadata": {
        "id": "ZIO4k_Eo3AW8"
      },
      "source": [
        ""
      ],
      "execution_count": null,
      "outputs": []
    },
    {
      "cell_type": "markdown",
      "metadata": {
        "id": "tiGA5q2K1f2x"
      },
      "source": [
        "#### Check properties:\n",
        "The following session is only for you to play around. If a heuristic passed the test, it **only** means it passed the test for this particular problem (layout). It **does not** mean it can pass all tests for different problem from the Mahattan Grid Domain, or in general."
      ]
    },
    {
      "cell_type": "markdown",
      "metadata": {
        "id": "B2T3KeMFIlMx"
      },
      "source": [
        "##### Check admissibility:"
      ]
    },
    {
      "cell_type": "code",
      "metadata": {
        "id": "pS5ccwCP1v0J"
      },
      "source": [
        "heuristic_list = {'Zero Heuristic':h0,'Goal Counting Heuristic':gc,'Manhattan Distance to Closest goal Heuristic':mdc,'Manhattan Distance to Furthest goal Heuristic':mdf}\n",
        "\n",
        "def checkA(problem, heuristic, hstar):\n",
        "  for state in problem.state_space:\n",
        "    if heuristic[state] > hstar[state]:\n",
        "      return False\n",
        "  return True\n",
        "\n",
        "for label, h in heuristic_list.items():\n",
        "  print(f\"{label}'s admissibility on the problem:\")\n",
        "  print(checkA(problem,h, hstar))"
      ],
      "execution_count": null,
      "outputs": []
    },
    {
      "cell_type": "markdown",
      "metadata": {
        "id": "ZZQ_WKd6Je-A"
      },
      "source": [
        "##### Check consistency:"
      ]
    },
    {
      "cell_type": "code",
      "metadata": {
        "id": "kA-lRUbPJeFP"
      },
      "source": [
        "\n",
        "def check_consistency(problem,heuristic):\n",
        "  for (state,action),state1 in problem.transition_function.items():\n",
        "    if heuristic[state1]+problem.costs[(state,action)]< heuristic[state]:\n",
        "      print('Inconsistent due to transition {} to {}. {} + {} is not larger or equal to {}.'.format( state, state1, problem.costs[(state,state1)],int(heuristic[state1]),int(heuristic[state]) ))\n",
        "      return False\n",
        "  return True\n",
        "\n",
        "for label, h in heuristic_list.items():\n",
        "  print(f\"{label}'s consistency:\")\n",
        "  print(check_consistency(problem,h))"
      ],
      "execution_count": null,
      "outputs": []
    },
    {
      "cell_type": "markdown",
      "metadata": {
        "id": "0USwnelIK2bI"
      },
      "source": [
        "##### Dominate relation:"
      ]
    },
    {
      "cell_type": "code",
      "metadata": {
        "id": "SmZMMNS4K8uv"
      },
      "source": [
        "checking_list = [(i,j) for i in heuristic_list.items() for j in heuristic_list.items() if i!=j]\n",
        "\n",
        "def check_domination(h1,h2):\n",
        "  for state in problem.state_space:\n",
        "    if not int(h1[1][state])>= int(h2[1][state]):\n",
        "      # print(f'state is {state}, {h1[0]} h is {h1[1][state]} < {h2[0]} h is {h2[1][state]}')\n",
        "      return False\n",
        "  return True\n",
        "\n",
        "for state in problem.state_space:\n",
        "  for action in problem.actions[state]:\n",
        "    pos,g_pos = problem.transition_function[(state,action)]\n",
        "    if pos in g_pos:\n",
        "      print(f\"state: {state}, action: {action}, state': {pos,g_pos}\")\n",
        "\n",
        "# since all heuristics are admissible, so we can simply check biggness relation\n",
        "for h1,h2 in checking_list:\n",
        "  print(f'{h1[0]} dominates {h2[0]} is: {check_domination(h1,h2)}')"
      ],
      "execution_count": null,
      "outputs": []
    },
    {
      "cell_type": "markdown",
      "metadata": {
        "id": "oCGzbSGEUpTP"
      },
      "source": [
        "##### Compare the solution length and node expansion number with A*:"
      ]
    },
    {
      "cell_type": "code",
      "metadata": {
        "id": "_pEe5X3sVJAH"
      },
      "source": [
        "for label, h in heuristic_list.items():\n",
        "  l,n = astar(problem,h)\n",
        "  print(f\"{label} solution length: {len(l)}; number of node expansion: {len(n)}\")"
      ],
      "execution_count": null,
      "outputs": []
    }
  ]
}